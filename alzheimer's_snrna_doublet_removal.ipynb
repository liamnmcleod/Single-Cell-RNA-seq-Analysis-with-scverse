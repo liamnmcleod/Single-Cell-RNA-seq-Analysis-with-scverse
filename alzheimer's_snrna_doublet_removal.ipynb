{
 "cells": [
  {
   "cell_type": "code",
   "execution_count": 2,
   "id": "6cd3ddf2-95c5-46b3-8a86-7e769438bf1a",
   "metadata": {},
   "outputs": [],
   "source": [
    "import scanpy as sc\n",
    "import torch\n",
    "import anndata\n",
    "from torch.utils.data import DataLoader\n",
    "import seaborn as sns\n",
    "import numpy as np\n",
    "import pandas as pd\n",
    "import scvi"
   ]
  },
  {
   "cell_type": "code",
   "execution_count": 3,
   "id": "2bd8e615-ae16-488e-86fd-7b620ff3915f",
   "metadata": {},
   "outputs": [
    {
     "name": "stdout",
     "output_type": "stream",
     "text": [
      "CUDA Available: True\n"
     ]
    }
   ],
   "source": [
    "print(\"CUDA Available:\", torch.cuda.is_available())"
   ]
  },
  {
   "cell_type": "code",
   "execution_count": 3,
   "id": "c546de0e-da0a-4f44-ace8-2f803aa57e84",
   "metadata": {},
   "outputs": [],
   "source": [
    "adata = sc.read_csv(r\"C:\\Users\\liamm\\Desktop\\New folder\\GSE138852_counts.csv\").T\n",
    "#Transpose for cells x genes, adata format"
   ]
  },
  {
   "cell_type": "code",
   "execution_count": 5,
   "id": "2180a53c-7b50-431a-a627-a21e3bf00d48",
   "metadata": {},
   "outputs": [
    {
     "data": {
      "text/plain": [
       "AnnData object with n_obs × n_vars = 13214 × 10850"
      ]
     },
     "execution_count": 5,
     "metadata": {},
     "output_type": "execute_result"
    }
   ],
   "source": [
    "adata"
   ]
  },
  {
   "cell_type": "code",
   "execution_count": 6,
   "id": "aed05d4b-9336-4f97-83ad-c34aef02c34e",
   "metadata": {},
   "outputs": [
    {
     "data": {
      "text/html": [
       "<div>\n",
       "<style scoped>\n",
       "    .dataframe tbody tr th:only-of-type {\n",
       "        vertical-align: middle;\n",
       "    }\n",
       "\n",
       "    .dataframe tbody tr th {\n",
       "        vertical-align: top;\n",
       "    }\n",
       "\n",
       "    .dataframe thead th {\n",
       "        text-align: right;\n",
       "    }\n",
       "</style>\n",
       "<table border=\"1\" class=\"dataframe\">\n",
       "  <thead>\n",
       "    <tr style=\"text-align: right;\">\n",
       "      <th></th>\n",
       "    </tr>\n",
       "  </thead>\n",
       "  <tbody>\n",
       "    <tr>\n",
       "      <th>AAACCTGGTAGAAAGG_AD5_AD6</th>\n",
       "    </tr>\n",
       "    <tr>\n",
       "      <th>AAACCTGGTAGCGATG_AD5_AD6</th>\n",
       "    </tr>\n",
       "    <tr>\n",
       "      <th>AAACCTGTCAGTCAGT_AD5_AD6</th>\n",
       "    </tr>\n",
       "    <tr>\n",
       "      <th>AAACCTGTCCAAACAC_AD5_AD6</th>\n",
       "    </tr>\n",
       "    <tr>\n",
       "      <th>AAACCTGTCCAGTATG_AD5_AD6</th>\n",
       "    </tr>\n",
       "  </tbody>\n",
       "</table>\n",
       "</div>"
      ],
      "text/plain": [
       "Empty DataFrame\n",
       "Columns: []\n",
       "Index: [AAACCTGGTAGAAAGG_AD5_AD6, AAACCTGGTAGCGATG_AD5_AD6, AAACCTGTCAGTCAGT_AD5_AD6, AAACCTGTCCAAACAC_AD5_AD6, AAACCTGTCCAGTATG_AD5_AD6]"
      ]
     },
     "execution_count": 6,
     "metadata": {},
     "output_type": "execute_result"
    }
   ],
   "source": [
    "adata.obs.head()"
   ]
  },
  {
   "cell_type": "code",
   "execution_count": 7,
   "id": "f6062854-83c5-4d32-a4c3-006ff72b726a",
   "metadata": {},
   "outputs": [
    {
     "data": {
      "text/html": [
       "<div>\n",
       "<style scoped>\n",
       "    .dataframe tbody tr th:only-of-type {\n",
       "        vertical-align: middle;\n",
       "    }\n",
       "\n",
       "    .dataframe tbody tr th {\n",
       "        vertical-align: top;\n",
       "    }\n",
       "\n",
       "    .dataframe thead th {\n",
       "        text-align: right;\n",
       "    }\n",
       "</style>\n",
       "<table border=\"1\" class=\"dataframe\">\n",
       "  <thead>\n",
       "    <tr style=\"text-align: right;\">\n",
       "      <th></th>\n",
       "    </tr>\n",
       "  </thead>\n",
       "  <tbody>\n",
       "    <tr>\n",
       "      <th>FO538757.2</th>\n",
       "    </tr>\n",
       "    <tr>\n",
       "      <th>AP006222.2</th>\n",
       "    </tr>\n",
       "    <tr>\n",
       "      <th>RP5-857K21.4</th>\n",
       "    </tr>\n",
       "    <tr>\n",
       "      <th>RP11-206L10.9</th>\n",
       "    </tr>\n",
       "    <tr>\n",
       "      <th>NOC2L</th>\n",
       "    </tr>\n",
       "  </tbody>\n",
       "</table>\n",
       "</div>"
      ],
      "text/plain": [
       "Empty DataFrame\n",
       "Columns: []\n",
       "Index: [FO538757.2, AP006222.2, RP5-857K21.4, RP11-206L10.9, NOC2L]"
      ]
     },
     "execution_count": 7,
     "metadata": {},
     "output_type": "execute_result"
    }
   ],
   "source": [
    "adata.var.head()"
   ]
  },
  {
   "cell_type": "code",
   "execution_count": 8,
   "id": "3041f235-8727-41e2-8147-814c9fbba0b4",
   "metadata": {},
   "outputs": [],
   "source": [
    "sc.pp.filter_genes(adata, min_cells = 10) #Keep genes that are found in at least 10 cells "
   ]
  },
  {
   "cell_type": "code",
   "execution_count": 9,
   "id": "1e47eb4f-cf8f-46da-b104-823dc137f043",
   "metadata": {},
   "outputs": [],
   "source": [
    "sc.pp.highly_variable_genes(adata, n_top_genes = 2000, subset = True, flavor = 'seurat_v3') #Filter for most variable genes"
   ]
  },
  {
   "cell_type": "code",
   "execution_count": 10,
   "id": "906cd237-ba67-4774-9ce9-59e796c1c50f",
   "metadata": {},
   "outputs": [
    {
     "data": {
      "text/plain": [
       "AnnData object with n_obs × n_vars = 13214 × 2000\n",
       "    var: 'n_cells', 'highly_variable', 'highly_variable_rank', 'means', 'variances', 'variances_norm'\n",
       "    uns: 'hvg'"
      ]
     },
     "execution_count": 10,
     "metadata": {},
     "output_type": "execute_result"
    }
   ],
   "source": [
    "adata"
   ]
  },
  {
   "cell_type": "code",
   "execution_count": 12,
   "id": "be2b2da6-0507-4b48-8f14-386a442a4731",
   "metadata": {},
   "outputs": [
    {
     "name": "stdout",
     "output_type": "stream",
     "text": [
      "CUDA available: True\n",
      "CUDA version: 12.1\n",
      "cuDNN version: 90100\n",
      "GPU name: NVIDIA GeForce RTX 2070 SUPER\n",
      "Device count: 1\n"
     ]
    }
   ],
   "source": [
    "import torch\n",
    "\n",
    "print(\"CUDA available:\", torch.cuda.is_available())\n",
    "\n",
    "if torch.cuda.is_available():\n",
    "    print(\"CUDA version:\", torch.version.cuda)\n",
    "    print(\"cuDNN version:\", torch.backends.cudnn.version())\n",
    "    print(\"GPU name:\", torch.cuda.get_device_name(0))\n",
    "    print(\"Device count:\", torch.cuda.device_count())\n",
    "else:\n",
    "    print(\"CUDA is NOT available.\")"
   ]
  },
  {
   "cell_type": "code",
   "execution_count": 11,
   "id": "41b5fc6e-d3de-48c9-9469-e5f317520b46",
   "metadata": {},
   "outputs": [
    {
     "name": "stderr",
     "output_type": "stream",
     "text": [
      "GPU available: True (cuda), used: True\n",
      "TPU available: False, using: 0 TPU cores\n",
      "HPU available: False, using: 0 HPUs\n",
      "LOCAL_RANK: 0 - CUDA_VISIBLE_DEVICES: [0]\n",
      "C:\\Users\\liamm\\anaconda3\\envs\\torch_env\\lib\\site-packages\\lightning\\pytorch\\trainer\\connectors\\data_connector.py:425: The 'train_dataloader' does not have many workers which may be a bottleneck. Consider increasing the value of the `num_workers` argument` to `num_workers=5` in the `DataLoader` to improve performance.\n"
     ]
    },
    {
     "data": {
      "application/vnd.jupyter.widget-view+json": {
       "model_id": "5de38bc3807348c3ae3a36b8d5c73bdb",
       "version_major": 2,
       "version_minor": 0
      },
      "text/plain": [
       "Training:   0%|          | 0/400 [00:00<?, ?it/s]"
      ]
     },
     "metadata": {},
     "output_type": "display_data"
    },
    {
     "name": "stderr",
     "output_type": "stream",
     "text": [
      "`Trainer.fit` stopped: `max_epochs=400` reached.\n"
     ]
    }
   ],
   "source": [
    "scvi.model.SCVI.setup_anndata(adata)\n",
    "vae = scvi.model.SCVI(adata)\n",
    "vae.train() #Variational autoencoder builds a probabilistic model of gene expression (latent representation)"
   ]
  },
  {
   "cell_type": "code",
   "execution_count": 13,
   "id": "3cf76e26-9529-4381-84a1-255f57d13d26",
   "metadata": {},
   "outputs": [
    {
     "name": "stdout",
     "output_type": "stream",
     "text": [
      "\u001b[34mINFO    \u001b[0m Creating doublets, preparing SOLO model.                                                                  \n"
     ]
    },
    {
     "name": "stderr",
     "output_type": "stream",
     "text": [
      "GPU available: True (cuda), used: True\n",
      "TPU available: False, using: 0 TPU cores\n",
      "HPU available: False, using: 0 HPUs\n",
      "LOCAL_RANK: 0 - CUDA_VISIBLE_DEVICES: [0]\n",
      "C:\\Users\\liamm\\anaconda3\\envs\\torch_env\\lib\\site-packages\\lightning\\pytorch\\trainer\\connectors\\data_connector.py:425: The 'train_dataloader' does not have many workers which may be a bottleneck. Consider increasing the value of the `num_workers` argument` to `num_workers=5` in the `DataLoader` to improve performance.\n",
      "C:\\Users\\liamm\\anaconda3\\envs\\torch_env\\lib\\site-packages\\lightning\\pytorch\\trainer\\connectors\\data_connector.py:425: The 'val_dataloader' does not have many workers which may be a bottleneck. Consider increasing the value of the `num_workers` argument` to `num_workers=5` in the `DataLoader` to improve performance.\n"
     ]
    },
    {
     "data": {
      "application/vnd.jupyter.widget-view+json": {
       "model_id": "294b6d7c51a84ec3b0ba01617dc5560e",
       "version_major": 2,
       "version_minor": 0
      },
      "text/plain": [
       "Training:   0%|          | 0/400 [00:00<?, ?it/s]"
      ]
     },
     "metadata": {},
     "output_type": "display_data"
    },
    {
     "name": "stdout",
     "output_type": "stream",
     "text": [
      "Monitored metric validation_loss did not improve in the last 30 records. Best score: 0.173. Signaling Trainer to stop.\n"
     ]
    }
   ],
   "source": [
    "solo = scvi.external.SOLO.from_scvi_model(vae)\n",
    "solo.train() #Train to distinguish doublets "
   ]
  },
  {
   "cell_type": "code",
   "execution_count": 14,
   "id": "1e81d51c-7646-445a-8c85-14c3a58af38e",
   "metadata": {},
   "outputs": [
    {
     "name": "stderr",
     "output_type": "stream",
     "text": [
      "C:\\Users\\liamm\\anaconda3\\envs\\torch_env\\lib\\site-packages\\torch\\utils\\_contextlib.py:116: UserWarning: Prior to scvi-tools 1.1.3, `SOLO.predict` with `soft=True` (the default option) returned logits instead of probabilities. This behavior has since been corrected to return probabiltiies. The previous behavior can be replicated by passing in `return_logits=True`.\n",
      "  return func(*args, **kwargs)\n",
      "C:\\Users\\liamm\\anaconda3\\envs\\torch_env\\lib\\site-packages\\torch\\utils\\_contextlib.py:116: UserWarning: Prior to scvi-tools 1.1.3, `SOLO.predict` with `soft=True` (the default option) returned logits instead of probabilities. This behavior has since been corrected to return probabiltiies. The previous behavior can be replicated by passing in `return_logits=True`.\n",
      "  return func(*args, **kwargs)\n"
     ]
    },
    {
     "data": {
      "text/html": [
       "<div>\n",
       "<style scoped>\n",
       "    .dataframe tbody tr th:only-of-type {\n",
       "        vertical-align: middle;\n",
       "    }\n",
       "\n",
       "    .dataframe tbody tr th {\n",
       "        vertical-align: top;\n",
       "    }\n",
       "\n",
       "    .dataframe thead th {\n",
       "        text-align: right;\n",
       "    }\n",
       "</style>\n",
       "<table border=\"1\" class=\"dataframe\">\n",
       "  <thead>\n",
       "    <tr style=\"text-align: right;\">\n",
       "      <th></th>\n",
       "      <th>doublet</th>\n",
       "      <th>singlet</th>\n",
       "      <th>prediction</th>\n",
       "    </tr>\n",
       "  </thead>\n",
       "  <tbody>\n",
       "    <tr>\n",
       "      <th>AAACCTGGTAGAAAGG_AD5_A</th>\n",
       "      <td>0.046560</td>\n",
       "      <td>0.953440</td>\n",
       "      <td>singlet</td>\n",
       "    </tr>\n",
       "    <tr>\n",
       "      <th>AAACCTGGTAGCGATG_AD5_A</th>\n",
       "      <td>0.247673</td>\n",
       "      <td>0.752327</td>\n",
       "      <td>singlet</td>\n",
       "    </tr>\n",
       "    <tr>\n",
       "      <th>AAACCTGTCAGTCAGT_AD5_A</th>\n",
       "      <td>0.079157</td>\n",
       "      <td>0.920843</td>\n",
       "      <td>singlet</td>\n",
       "    </tr>\n",
       "    <tr>\n",
       "      <th>AAACCTGTCCAAACAC_AD5_A</th>\n",
       "      <td>0.164119</td>\n",
       "      <td>0.835881</td>\n",
       "      <td>singlet</td>\n",
       "    </tr>\n",
       "    <tr>\n",
       "      <th>AAACCTGTCCAGTATG_AD5_A</th>\n",
       "      <td>0.007581</td>\n",
       "      <td>0.992419</td>\n",
       "      <td>singlet</td>\n",
       "    </tr>\n",
       "    <tr>\n",
       "      <th>...</th>\n",
       "      <td>...</td>\n",
       "      <td>...</td>\n",
       "      <td>...</td>\n",
       "    </tr>\n",
       "    <tr>\n",
       "      <th>TTTGGTTTCCGTACAA_AD1_A</th>\n",
       "      <td>0.000058</td>\n",
       "      <td>0.999942</td>\n",
       "      <td>singlet</td>\n",
       "    </tr>\n",
       "    <tr>\n",
       "      <th>TTTGTCACAAGCCATT_AD1_A</th>\n",
       "      <td>0.009481</td>\n",
       "      <td>0.990519</td>\n",
       "      <td>singlet</td>\n",
       "    </tr>\n",
       "    <tr>\n",
       "      <th>TTTGTCAGTATAGGTA_AD1_A</th>\n",
       "      <td>0.000162</td>\n",
       "      <td>0.999838</td>\n",
       "      <td>singlet</td>\n",
       "    </tr>\n",
       "    <tr>\n",
       "      <th>TTTGTCATCCACTGGG_AD1_A</th>\n",
       "      <td>0.262832</td>\n",
       "      <td>0.737168</td>\n",
       "      <td>singlet</td>\n",
       "    </tr>\n",
       "    <tr>\n",
       "      <th>TTTGTCATCCGGGTGT_AD1_A</th>\n",
       "      <td>0.052023</td>\n",
       "      <td>0.947977</td>\n",
       "      <td>singlet</td>\n",
       "    </tr>\n",
       "  </tbody>\n",
       "</table>\n",
       "<p>13214 rows × 3 columns</p>\n",
       "</div>"
      ],
      "text/plain": [
       "                         doublet   singlet prediction\n",
       "AAACCTGGTAGAAAGG_AD5_A  0.046560  0.953440    singlet\n",
       "AAACCTGGTAGCGATG_AD5_A  0.247673  0.752327    singlet\n",
       "AAACCTGTCAGTCAGT_AD5_A  0.079157  0.920843    singlet\n",
       "AAACCTGTCCAAACAC_AD5_A  0.164119  0.835881    singlet\n",
       "AAACCTGTCCAGTATG_AD5_A  0.007581  0.992419    singlet\n",
       "...                          ...       ...        ...\n",
       "TTTGGTTTCCGTACAA_AD1_A  0.000058  0.999942    singlet\n",
       "TTTGTCACAAGCCATT_AD1_A  0.009481  0.990519    singlet\n",
       "TTTGTCAGTATAGGTA_AD1_A  0.000162  0.999838    singlet\n",
       "TTTGTCATCCACTGGG_AD1_A  0.262832  0.737168    singlet\n",
       "TTTGTCATCCGGGTGT_AD1_A  0.052023  0.947977    singlet\n",
       "\n",
       "[13214 rows x 3 columns]"
      ]
     },
     "execution_count": 14,
     "metadata": {},
     "output_type": "execute_result"
    }
   ],
   "source": [
    "df = solo.predict()\n",
    "df['prediction'] = solo.predict(soft = False)\n",
    "\n",
    "df.index = df.index.map(lambda x: x[:-2])\n",
    "\n",
    "df"
   ]
  },
  {
   "cell_type": "code",
   "execution_count": 25,
   "id": "4048863a-c099-4728-8b14-c4a9f8f3aafb",
   "metadata": {},
   "outputs": [
    {
     "data": {
      "text/html": [
       "<div>\n",
       "<style scoped>\n",
       "    .dataframe tbody tr th:only-of-type {\n",
       "        vertical-align: middle;\n",
       "    }\n",
       "\n",
       "    .dataframe tbody tr th {\n",
       "        vertical-align: top;\n",
       "    }\n",
       "\n",
       "    .dataframe thead th {\n",
       "        text-align: right;\n",
       "    }\n",
       "</style>\n",
       "<table border=\"1\" class=\"dataframe\">\n",
       "  <thead>\n",
       "    <tr style=\"text-align: right;\">\n",
       "      <th></th>\n",
       "      <th>doublet</th>\n",
       "      <th>singlet</th>\n",
       "      <th>dif</th>\n",
       "      <th>final_doublet_call</th>\n",
       "    </tr>\n",
       "    <tr>\n",
       "      <th>prediction</th>\n",
       "      <th></th>\n",
       "      <th></th>\n",
       "      <th></th>\n",
       "      <th></th>\n",
       "    </tr>\n",
       "  </thead>\n",
       "  <tbody>\n",
       "    <tr>\n",
       "      <th>doublet</th>\n",
       "      <td>1507</td>\n",
       "      <td>1507</td>\n",
       "      <td>1507</td>\n",
       "      <td>1507</td>\n",
       "    </tr>\n",
       "    <tr>\n",
       "      <th>singlet</th>\n",
       "      <td>11707</td>\n",
       "      <td>11707</td>\n",
       "      <td>11707</td>\n",
       "      <td>11707</td>\n",
       "    </tr>\n",
       "  </tbody>\n",
       "</table>\n",
       "</div>"
      ],
      "text/plain": [
       "            doublet  singlet    dif  final_doublet_call\n",
       "prediction                                             \n",
       "doublet        1507     1507   1507                1507\n",
       "singlet       11707    11707  11707               11707"
      ]
     },
     "execution_count": 25,
     "metadata": {},
     "output_type": "execute_result"
    }
   ],
   "source": [
    "df.groupby('prediction').count()"
   ]
  },
  {
   "cell_type": "code",
   "execution_count": 26,
   "id": "091c61f5-4d0f-4294-933b-7bfa30c77366",
   "metadata": {},
   "outputs": [
    {
     "data": {
      "text/html": [
       "<div>\n",
       "<style scoped>\n",
       "    .dataframe tbody tr th:only-of-type {\n",
       "        vertical-align: middle;\n",
       "    }\n",
       "\n",
       "    .dataframe tbody tr th {\n",
       "        vertical-align: top;\n",
       "    }\n",
       "\n",
       "    .dataframe thead th {\n",
       "        text-align: right;\n",
       "    }\n",
       "</style>\n",
       "<table border=\"1\" class=\"dataframe\">\n",
       "  <thead>\n",
       "    <tr style=\"text-align: right;\">\n",
       "      <th></th>\n",
       "      <th>doublet</th>\n",
       "      <th>singlet</th>\n",
       "      <th>prediction</th>\n",
       "      <th>dif</th>\n",
       "      <th>final_doublet_call</th>\n",
       "    </tr>\n",
       "  </thead>\n",
       "  <tbody>\n",
       "    <tr>\n",
       "      <th>AAACCTGGTAGAAAGG_AD5_A</th>\n",
       "      <td>0.046560</td>\n",
       "      <td>0.953440</td>\n",
       "      <td>singlet</td>\n",
       "      <td>-0.906881</td>\n",
       "      <td>False</td>\n",
       "    </tr>\n",
       "    <tr>\n",
       "      <th>AAACCTGGTAGCGATG_AD5_A</th>\n",
       "      <td>0.247673</td>\n",
       "      <td>0.752327</td>\n",
       "      <td>singlet</td>\n",
       "      <td>-0.504654</td>\n",
       "      <td>False</td>\n",
       "    </tr>\n",
       "    <tr>\n",
       "      <th>AAACCTGTCAGTCAGT_AD5_A</th>\n",
       "      <td>0.079157</td>\n",
       "      <td>0.920843</td>\n",
       "      <td>singlet</td>\n",
       "      <td>-0.841686</td>\n",
       "      <td>False</td>\n",
       "    </tr>\n",
       "    <tr>\n",
       "      <th>AAACCTGTCCAAACAC_AD5_A</th>\n",
       "      <td>0.164119</td>\n",
       "      <td>0.835881</td>\n",
       "      <td>singlet</td>\n",
       "      <td>-0.671761</td>\n",
       "      <td>False</td>\n",
       "    </tr>\n",
       "    <tr>\n",
       "      <th>AAACCTGTCCAGTATG_AD5_A</th>\n",
       "      <td>0.007581</td>\n",
       "      <td>0.992419</td>\n",
       "      <td>singlet</td>\n",
       "      <td>-0.984838</td>\n",
       "      <td>False</td>\n",
       "    </tr>\n",
       "    <tr>\n",
       "      <th>...</th>\n",
       "      <td>...</td>\n",
       "      <td>...</td>\n",
       "      <td>...</td>\n",
       "      <td>...</td>\n",
       "      <td>...</td>\n",
       "    </tr>\n",
       "    <tr>\n",
       "      <th>TTTGGTTTCCGTACAA_AD1_A</th>\n",
       "      <td>0.000058</td>\n",
       "      <td>0.999942</td>\n",
       "      <td>singlet</td>\n",
       "      <td>-0.999884</td>\n",
       "      <td>False</td>\n",
       "    </tr>\n",
       "    <tr>\n",
       "      <th>TTTGTCACAAGCCATT_AD1_A</th>\n",
       "      <td>0.009481</td>\n",
       "      <td>0.990519</td>\n",
       "      <td>singlet</td>\n",
       "      <td>-0.981039</td>\n",
       "      <td>False</td>\n",
       "    </tr>\n",
       "    <tr>\n",
       "      <th>TTTGTCAGTATAGGTA_AD1_A</th>\n",
       "      <td>0.000162</td>\n",
       "      <td>0.999838</td>\n",
       "      <td>singlet</td>\n",
       "      <td>-0.999677</td>\n",
       "      <td>False</td>\n",
       "    </tr>\n",
       "    <tr>\n",
       "      <th>TTTGTCATCCACTGGG_AD1_A</th>\n",
       "      <td>0.262832</td>\n",
       "      <td>0.737168</td>\n",
       "      <td>singlet</td>\n",
       "      <td>-0.474336</td>\n",
       "      <td>False</td>\n",
       "    </tr>\n",
       "    <tr>\n",
       "      <th>TTTGTCATCCGGGTGT_AD1_A</th>\n",
       "      <td>0.052023</td>\n",
       "      <td>0.947977</td>\n",
       "      <td>singlet</td>\n",
       "      <td>-0.895954</td>\n",
       "      <td>False</td>\n",
       "    </tr>\n",
       "  </tbody>\n",
       "</table>\n",
       "<p>13214 rows × 5 columns</p>\n",
       "</div>"
      ],
      "text/plain": [
       "                         doublet   singlet prediction       dif  \\\n",
       "AAACCTGGTAGAAAGG_AD5_A  0.046560  0.953440    singlet -0.906881   \n",
       "AAACCTGGTAGCGATG_AD5_A  0.247673  0.752327    singlet -0.504654   \n",
       "AAACCTGTCAGTCAGT_AD5_A  0.079157  0.920843    singlet -0.841686   \n",
       "AAACCTGTCCAAACAC_AD5_A  0.164119  0.835881    singlet -0.671761   \n",
       "AAACCTGTCCAGTATG_AD5_A  0.007581  0.992419    singlet -0.984838   \n",
       "...                          ...       ...        ...       ...   \n",
       "TTTGGTTTCCGTACAA_AD1_A  0.000058  0.999942    singlet -0.999884   \n",
       "TTTGTCACAAGCCATT_AD1_A  0.009481  0.990519    singlet -0.981039   \n",
       "TTTGTCAGTATAGGTA_AD1_A  0.000162  0.999838    singlet -0.999677   \n",
       "TTTGTCATCCACTGGG_AD1_A  0.262832  0.737168    singlet -0.474336   \n",
       "TTTGTCATCCGGGTGT_AD1_A  0.052023  0.947977    singlet -0.895954   \n",
       "\n",
       "                        final_doublet_call  \n",
       "AAACCTGGTAGAAAGG_AD5_A               False  \n",
       "AAACCTGGTAGCGATG_AD5_A               False  \n",
       "AAACCTGTCAGTCAGT_AD5_A               False  \n",
       "AAACCTGTCCAAACAC_AD5_A               False  \n",
       "AAACCTGTCCAGTATG_AD5_A               False  \n",
       "...                                    ...  \n",
       "TTTGGTTTCCGTACAA_AD1_A               False  \n",
       "TTTGTCACAAGCCATT_AD1_A               False  \n",
       "TTTGTCAGTATAGGTA_AD1_A               False  \n",
       "TTTGTCATCCACTGGG_AD1_A               False  \n",
       "TTTGTCATCCGGGTGT_AD1_A               False  \n",
       "\n",
       "[13214 rows x 5 columns]"
      ]
     },
     "execution_count": 26,
     "metadata": {},
     "output_type": "execute_result"
    }
   ],
   "source": [
    "df['dif'] = df.doublet - df.singlet\n",
    "df"
   ]
  },
  {
   "cell_type": "code",
   "execution_count": 27,
   "id": "30fda03d-a5c8-4a51-865d-2adf53a97751",
   "metadata": {},
   "outputs": [
    {
     "data": {
      "text/plain": [
       "<Axes: xlabel='dif', ylabel='Count'>"
      ]
     },
     "execution_count": 27,
     "metadata": {},
     "output_type": "execute_result"
    },
    {
     "data": {
      "image/png": "[encoded data removed]",
      "text/plain": [
       "<Figure size 640x480 with 1 Axes>"
      ]
     },
     "metadata": {},
     "output_type": "display_data"
    }
   ],
   "source": [
    "sns.histplot(df, x='dif', hue='prediction', bins=50, element='step')"
   ]
  },
  {
   "cell_type": "code",
   "execution_count": 28,
   "id": "5707f24b-76fb-43a0-ae95-ca02b93650d7",
   "metadata": {},
   "outputs": [
    {
     "data": {
      "text/html": [
       "<div>\n",
       "<style scoped>\n",
       "    .dataframe tbody tr th:only-of-type {\n",
       "        vertical-align: middle;\n",
       "    }\n",
       "\n",
       "    .dataframe tbody tr th {\n",
       "        vertical-align: top;\n",
       "    }\n",
       "\n",
       "    .dataframe thead th {\n",
       "        text-align: right;\n",
       "    }\n",
       "</style>\n",
       "<table border=\"1\" class=\"dataframe\">\n",
       "  <thead>\n",
       "    <tr style=\"text-align: right;\">\n",
       "      <th></th>\n",
       "      <th>doublet</th>\n",
       "      <th>singlet</th>\n",
       "      <th>prediction</th>\n",
       "      <th>dif</th>\n",
       "      <th>final_doublet_call</th>\n",
       "    </tr>\n",
       "  </thead>\n",
       "  <tbody>\n",
       "    <tr>\n",
       "      <th>AACTCAGCACGAAGCA_AD5_A</th>\n",
       "      <td>0.553607</td>\n",
       "      <td>0.446393</td>\n",
       "      <td>doublet</td>\n",
       "      <td>0.107214</td>\n",
       "      <td>True</td>\n",
       "    </tr>\n",
       "    <tr>\n",
       "      <th>AAGACCTAGATCCTGT_AD5_A</th>\n",
       "      <td>0.605835</td>\n",
       "      <td>0.394165</td>\n",
       "      <td>doublet</td>\n",
       "      <td>0.211670</td>\n",
       "      <td>True</td>\n",
       "    </tr>\n",
       "    <tr>\n",
       "      <th>AAGACCTTCAAACCAC_AD5_A</th>\n",
       "      <td>0.626117</td>\n",
       "      <td>0.373883</td>\n",
       "      <td>doublet</td>\n",
       "      <td>0.252235</td>\n",
       "      <td>True</td>\n",
       "    </tr>\n",
       "    <tr>\n",
       "      <th>AAGGAGCCAAGTTAAG_AD5_A</th>\n",
       "      <td>0.944898</td>\n",
       "      <td>0.055102</td>\n",
       "      <td>doublet</td>\n",
       "      <td>0.889796</td>\n",
       "      <td>True</td>\n",
       "    </tr>\n",
       "    <tr>\n",
       "      <th>AAGGCAGAGACTTGAA_AD5_A</th>\n",
       "      <td>0.659698</td>\n",
       "      <td>0.340302</td>\n",
       "      <td>doublet</td>\n",
       "      <td>0.319396</td>\n",
       "      <td>True</td>\n",
       "    </tr>\n",
       "    <tr>\n",
       "      <th>...</th>\n",
       "      <td>...</td>\n",
       "      <td>...</td>\n",
       "      <td>...</td>\n",
       "      <td>...</td>\n",
       "      <td>...</td>\n",
       "    </tr>\n",
       "    <tr>\n",
       "      <th>TTGTAGGTCGTAGATC_AD1_A</th>\n",
       "      <td>0.554543</td>\n",
       "      <td>0.445457</td>\n",
       "      <td>doublet</td>\n",
       "      <td>0.109086</td>\n",
       "      <td>True</td>\n",
       "    </tr>\n",
       "    <tr>\n",
       "      <th>TTTATGCCACCAGGCT_AD1_A</th>\n",
       "      <td>0.691068</td>\n",
       "      <td>0.308932</td>\n",
       "      <td>doublet</td>\n",
       "      <td>0.382137</td>\n",
       "      <td>True</td>\n",
       "    </tr>\n",
       "    <tr>\n",
       "      <th>TTTCCTCGTGGCAAAC_AD1_A</th>\n",
       "      <td>0.853700</td>\n",
       "      <td>0.146300</td>\n",
       "      <td>doublet</td>\n",
       "      <td>0.707400</td>\n",
       "      <td>True</td>\n",
       "    </tr>\n",
       "    <tr>\n",
       "      <th>TTTGCGCAGGAGTTTA_AD1_A</th>\n",
       "      <td>0.508530</td>\n",
       "      <td>0.491470</td>\n",
       "      <td>doublet</td>\n",
       "      <td>0.017059</td>\n",
       "      <td>True</td>\n",
       "    </tr>\n",
       "    <tr>\n",
       "      <th>TTTGCGCGTCACACGC_AD1_A</th>\n",
       "      <td>0.852434</td>\n",
       "      <td>0.147566</td>\n",
       "      <td>doublet</td>\n",
       "      <td>0.704869</td>\n",
       "      <td>True</td>\n",
       "    </tr>\n",
       "  </tbody>\n",
       "</table>\n",
       "<p>1507 rows × 5 columns</p>\n",
       "</div>"
      ],
      "text/plain": [
       "                         doublet   singlet prediction       dif  \\\n",
       "AACTCAGCACGAAGCA_AD5_A  0.553607  0.446393    doublet  0.107214   \n",
       "AAGACCTAGATCCTGT_AD5_A  0.605835  0.394165    doublet  0.211670   \n",
       "AAGACCTTCAAACCAC_AD5_A  0.626117  0.373883    doublet  0.252235   \n",
       "AAGGAGCCAAGTTAAG_AD5_A  0.944898  0.055102    doublet  0.889796   \n",
       "AAGGCAGAGACTTGAA_AD5_A  0.659698  0.340302    doublet  0.319396   \n",
       "...                          ...       ...        ...       ...   \n",
       "TTGTAGGTCGTAGATC_AD1_A  0.554543  0.445457    doublet  0.109086   \n",
       "TTTATGCCACCAGGCT_AD1_A  0.691068  0.308932    doublet  0.382137   \n",
       "TTTCCTCGTGGCAAAC_AD1_A  0.853700  0.146300    doublet  0.707400   \n",
       "TTTGCGCAGGAGTTTA_AD1_A  0.508530  0.491470    doublet  0.017059   \n",
       "TTTGCGCGTCACACGC_AD1_A  0.852434  0.147566    doublet  0.704869   \n",
       "\n",
       "                        final_doublet_call  \n",
       "AACTCAGCACGAAGCA_AD5_A                True  \n",
       "AAGACCTAGATCCTGT_AD5_A                True  \n",
       "AAGACCTTCAAACCAC_AD5_A                True  \n",
       "AAGGAGCCAAGTTAAG_AD5_A                True  \n",
       "AAGGCAGAGACTTGAA_AD5_A                True  \n",
       "...                                    ...  \n",
       "TTGTAGGTCGTAGATC_AD1_A                True  \n",
       "TTTATGCCACCAGGCT_AD1_A                True  \n",
       "TTTCCTCGTGGCAAAC_AD1_A                True  \n",
       "TTTGCGCAGGAGTTTA_AD1_A                True  \n",
       "TTTGCGCGTCACACGC_AD1_A                True  \n",
       "\n",
       "[1507 rows x 5 columns]"
      ]
     },
     "execution_count": 28,
     "metadata": {},
     "output_type": "execute_result"
    }
   ],
   "source": [
    "doublets = df[(df.prediction == 'doublet') & (df.dif > 0)]\n",
    "doublets"
   ]
  },
  {
   "cell_type": "code",
   "execution_count": 29,
   "id": "00788382-9bf5-4940-9eae-545545338e60",
   "metadata": {},
   "outputs": [],
   "source": [
    "#1507 cells flagged as doublets "
   ]
  },
  {
   "cell_type": "code",
   "execution_count": null,
   "id": "d00317a0-b79b-49ea-9938-08dde62fb950",
   "metadata": {},
   "outputs": [],
   "source": []
  }
 ],
 "metadata": {
  "kernelspec": {
   "display_name": "Python [conda env:torch_env]",
   "language": "python",
   "name": "conda-env-torch_env-py"
  },
  "language_info": {
   "codemirror_mode": {
    "name": "ipython",
    "version": 3
   },
   "file_extension": ".py",
   "mimetype": "text/x-python",
   "name": "python",
   "nbconvert_exporter": "python",
   "pygments_lexer": "ipython3",
   "version": "3.10.18"
  }
 },
 "nbformat": 4,
 "nbformat_minor": 5
}
